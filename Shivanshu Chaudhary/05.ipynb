{
 "cells": [
  {
   "cell_type": "markdown",
   "metadata": {},
   "source": [
    "# Dictionary"
   ]
  },
  {
   "cell_type": "markdown",
   "metadata": {},
   "source": [
    "https://docs.python.org/3/tutorial/datastructures.html#dictionaries\n",
    "\n",
    "Unlike sequences, which are indexed by a range of numbers, dictionaries are indexed by keys, which can be any immutable type; strings and numbers can always be keys. Tuples can be used as keys if they contain only strings, numbers, or tuples; if a tuple contains any mutable object either directly or indirectly, it cannot be used as a key. You can’t use lists as keys, since lists can be modified in place using index assignments, slice assignments, or methods like append() and extend().\n",
    "\n",
    "\n",
    "It is best to think of a dictionary as a set of key: value pairs, with the requirement that the keys are unique (within one dictionary). A pair of braces creates an empty dictionary: {}. Placing a comma-separated list of key:value pairs within the braces adds initial key:value pairs to the dictionary; this is also the way dictionaries are written on output."
   ]
  },
  {
   "cell_type": "markdown",
   "metadata": {},
   "source": [
    "A dictionary looks like this:"
   ]
  },
  {
   "cell_type": "code",
   "execution_count": null,
   "metadata": {},
   "outputs": [],
   "source": [
    "dict = {'username': 'sammy-shark', 'online': True, 'followers': 987}"
   ]
  },
  {
   "cell_type": "markdown",
   "metadata": {},
   "source": [
    "The words to the left of the colons are the keys. Keys can be made up of any immutable data type. The keys in the dictionary above are:\n",
    "\n",
    "\n",
    "`'username'`\n",
    "\n",
    "`'online'`\n",
    "\n",
    "`'followers'`\n",
    "\n",
    "Each of the keys in the above example are string values.\n",
    "\n",
    "\n",
    "The words to the right of the colons are the values. Values can be comprised of any data type. The values in the dictionary above are:\n",
    "\n",
    "`'sammy-shark'`\n",
    "\n",
    "`True`\n",
    "\n",
    "`987`\n",
    "\n",
    "Each of these values is either a string, Boolean, or integer."
   ]
  },
  {
   "cell_type": "code",
   "execution_count": null,
   "metadata": {},
   "outputs": [],
   "source": [
    "# Let's see what a dict looks like\n",
    "print(dict)"
   ]
  },
  {
   "cell_type": "code",
   "execution_count": null,
   "metadata": {},
   "outputs": [],
   "source": [
    "print(dict['username'])"
   ]
  },
  {
   "cell_type": "markdown",
   "metadata": {},
   "source": [
    "### Built-In Dictionary methods\n",
    "\n",
    "`dict.keys()` isolates keys"
   ]
  },
  {
   "cell_type": "code",
   "execution_count": null,
   "metadata": {},
   "outputs": [],
   "source": [
    "print(dict.keys())"
   ]
  },
  {
   "cell_type": "code",
   "execution_count": null,
   "metadata": {},
   "outputs": [],
   "source": [
    "print(dict.values())"
   ]
  },
  {
   "cell_type": "code",
   "execution_count": null,
   "metadata": {},
   "outputs": [],
   "source": [
    "print(dict.items())"
   ]
  },
  {
   "cell_type": "code",
   "execution_count": null,
   "metadata": {},
   "outputs": [],
   "source": [
    "#Updating a dictionary\n",
    "dict['username'] = 'sammy@shark'\n",
    "print(dict)"
   ]
  },
  {
   "cell_type": "code",
   "execution_count": null,
   "metadata": {},
   "outputs": [],
   "source": [
    "dict = {'username': 'sammy-shark', 'online': True, 'followers': 987}\n",
    "# Deleting a key:value pair\n",
    "del dict['username']\n",
    "print(dict)"
   ]
  },
  {
   "cell_type": "markdown",
   "metadata": {},
   "source": [
    "### Exemplary Dictionary Code"
   ]
  },
  {
   "cell_type": "markdown",
   "metadata": {},
   "source": [
    "# SETS"
   ]
  },
  {
   "cell_type": "markdown",
   "metadata": {},
   "source": [
    "A Set is an unordered (=> Can't be accessed by index) collection data type that is iterable, mutable, and has no duplicate elements. Python’s set class represents the mathematical notion of a set. The major advantage of using a set, as opposed to a list, is that it has a highly optimized method for checking whether a specific element is contained in the set. This is based on a data structure known as a hash table."
   ]
  },
  {
   "cell_type": "code",
   "execution_count": null,
   "metadata": {},
   "outputs": [],
   "source": [
    "normal_set = set([\"a\", \"b\",\"c\"])\n",
    " \n",
    "normal_set.add(\"d\")\n",
    " \n",
    "print(\"Normal Set\")\n",
    "print(normal_set)\n",
    "\n",
    "normal_set.add(\"b\")\n",
    "print(normal_set)"
   ]
  },
  {
   "cell_type": "markdown",
   "metadata": {},
   "source": [
    "### Methods For Sets"
   ]
  },
  {
   "cell_type": "code",
   "execution_count": null,
   "metadata": {},
   "outputs": [],
   "source": [
    "# add(x)\n",
    "normal_set = set([\"a\", \"b\",\"c\"])\n",
    " \n",
    "normal_set.add(\"d\")\n",
    " \n",
    "print(\"Normal Set\")\n",
    "print(normal_set)"
   ]
  },
  {
   "cell_type": "code",
   "execution_count": null,
   "metadata": {},
   "outputs": [],
   "source": [
    "# union(set2)\n",
    "set1 = set(['a','b','c','d','e'])\n",
    "set2 = set(['f','g','b','c'])\n",
    "union_set = set1.union(set2)\n",
    "intersection_set = set1.intersection(set2)\n",
    "difference = set1.difference(set2)\n",
    "\n",
    "print(union_set)\n",
    "print(intersection_set)\n",
    "print(difference)"
   ]
  },
  {
   "cell_type": "markdown",
   "metadata": {},
   "source": [
    "### Operator of sets"
   ]
  },
  {
   "cell_type": "markdown",
   "metadata": {},
   "source": [
    "`in` containment check\n",
    "\n",
    "`not in` non-containment check\n",
    "\n",
    "`==`  s1 is equivalent to s2\n",
    "\n",
    "`!=`  s1 is not equivalent to s2\n",
    "\n",
    "`<=` s1 is subset of s2 \n",
    "\n",
    "`<`  s1 is proper subset of s2\n",
    "\n",
    "`>=` s1 is superset of s2\n",
    "\n",
    "`>`  s1 is proper superset of s2\n",
    "\n",
    "`|`  the union of s1 and s2\n",
    "\n",
    "`&`  the intersection of s1 and s2\n",
    "\n",
    "`-`  the set of elements in s1 but not s2\n",
    "\n",
    "`^`  the set of elements in precisely one of s1 or s2"
   ]
  },
  {
   "cell_type": "code",
   "execution_count": null,
   "metadata": {},
   "outputs": [],
   "source": [
    "# Creating two sets\n",
    "set1 = set()\n",
    "set2 = set()\n",
    " \n",
    "# Adding elements to set1\n",
    "for i in range(1, 6):\n",
    "    set1.add(i)\n",
    " \n",
    "# Adding elements to set2\n",
    "for i in range(3, 8):\n",
    "    set2.add(i)\n",
    " \n",
    "print(\"Set1 = \", set1)\n",
    "print(\"Set2 = \", set2)\n",
    "print(\"\\n\")\n",
    " \n",
    "# Union of set1 and set2\n",
    "set3 = set1 | set2# set1.union(set2)\n",
    "print(\"Union of Set1 & Set2: Set3 = \", set3)\n",
    " \n",
    "# Intersection of set1 and set2\n",
    "set4 = set1 & set2# set1.intersection(set2)\n",
    "print(\"Intersection of Set1 & Set2: Set4 = \", set4)\n",
    "print(\"\\n\")\n",
    " \n",
    "# Checking relation between set3 and set4\n",
    "if set3 > set4: # set3.issuperset(set4)\n",
    "    print(\"Set3 is superset of Set4\")\n",
    "elif set3 < set4: # set3.issubset(set4)\n",
    "    print(\"Set3 is subset of Set4\")\n",
    "else : # set3 == set4\n",
    "    print(\"Set3 is same as Set4\")\n",
    " \n",
    "# displaying relation between set4 and set3\n",
    "if set4 < set3: # set4.issubset(set3)\n",
    "    print(\"Set4 is subset of Set3\")\n",
    "    print(\"\\n\")\n",
    " \n",
    "# difference between set3 and set4\n",
    "set5 = set3 - set4\n",
    "print(\"Elements in Set3 and not in Set4: Set5 = \", set5)\n",
    "print(\"\\n\")\n",
    " \n",
    "# checkv if set4 and set5 are disjoint sets\n",
    "if set4.isdisjoint(set5):\n",
    "    print(\"Set4 and Set5 have nothing in common\\n\")\n",
    " \n",
    "# Removing all the values of set5\n",
    "set5.clear()\n",
    " \n",
    "print(\"After applying clear on sets Set5: \")\n",
    "print(\"Set5 = \", set5)\n"
   ]
  },
  {
   "cell_type": "code",
   "execution_count": null,
   "metadata": {},
   "outputs": [],
   "source": []
  }
 ],
 "metadata": {
  "kernelspec": {
   "display_name": "Python 3",
   "language": "python",
   "name": "python3"
  },
  "language_info": {
   "codemirror_mode": {
    "name": "ipython",
    "version": 3
   },
   "file_extension": ".py",
   "mimetype": "text/x-python",
   "name": "python",
   "nbconvert_exporter": "python",
   "pygments_lexer": "ipython3",
   "version": "3.6.4"
  }
 },
 "nbformat": 4,
 "nbformat_minor": 2
}
