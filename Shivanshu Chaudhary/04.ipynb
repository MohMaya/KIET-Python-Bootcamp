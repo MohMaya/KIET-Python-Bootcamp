{
 "cells": [
  {
   "cell_type": "markdown",
   "metadata": {},
   "source": [
    "# List"
   ]
  },
  {
   "cell_type": "markdown",
   "metadata": {},
   "source": [
    "A list is a collection which is ordered and changeable. In Python lists are written with square brackets."
   ]
  },
  {
   "cell_type": "code",
   "execution_count": null,
   "metadata": {},
   "outputs": [],
   "source": [
    "#Create a List\n",
    "thislist = [\"apple\", \"banana\", \"cherry\"]\n",
    "print(thislist)"
   ]
  },
  {
   "cell_type": "code",
   "execution_count": null,
   "metadata": {},
   "outputs": [],
   "source": [
    "# Change Second Element\n",
    "thislist = [\"apple\", \"banana\", \"cherry\"]\n",
    "thislist[1] = \"blackcurrant\"\n",
    "print(thislist)"
   ]
  },
  {
   "cell_type": "code",
   "execution_count": null,
   "metadata": {},
   "outputs": [],
   "source": [
    "#List Constructor to initialize a list\n",
    "#'Constructor' : Discuss Later On\n",
    "thislist = list((\"apple\", \"banana\", \"cherry\")) # note the double round-brackets\n",
    "print(thislist)"
   ]
  },
  {
   "cell_type": "markdown",
   "metadata": {},
   "source": [
    "### List Methods\n",
    "\n",
    "`append()`\tAdds an element at the end of the list\n",
    "\n",
    "`clear()`\t    Removes all the elements from the list\n",
    "\n",
    "`copy()`\tReturns a copy of the list\n",
    "\n",
    "`count()`\tReturns the number of elements with the specified value\n",
    "\n",
    "`extend()`\tAdd the elements of a list (or any iterable), to the end of the current list\n",
    "\n",
    "`index()`\tReturns the index of the first element with the specified value\n",
    "\n",
    "`insert()`\tAdds an element at the specified position\n",
    "\n",
    "`pop()`\tRemoves the element at the specified position\n",
    "\n",
    "`remove()`\tRemoves the first item with the specified value\n",
    "\n",
    "`reverse()`\tReverses the order of the list\n",
    "\n",
    "`sort()`\tSorts the list"
   ]
  },
  {
   "cell_type": "markdown",
   "metadata": {},
   "source": [
    "### Shallow Copying vs Deep Copying\n",
    "\n",
    "* Assignment statements in Python do not copy objects, they create bindings between a target and an object. For collections that are mutable or contain mutable items, a copy is sometimes needed so one can change one copy without changing the other.\n",
    "\n",
    "\n",
    "\n",
    "* In case of deep copy, a copy of object is copied in other object. It means that any changes made to a copy of object do not reflect in the original object.\n",
    "\n",
    "* In python, this is implemented using `deepcopy()` function.\n",
    "\n",
    "\n",
    "* In case of shallow copy, a reference of object is copied in other object. It means that any changes made to a copy of object do reflect in the original object.\n",
    "\n",
    "* In python, this is implemented using `copy()` function."
   ]
  },
  {
   "cell_type": "markdown",
   "metadata": {},
   "source": [
    "### Copying in lists\n",
    "\n",
    "Assignment operator does a shallow copy\n",
    ".copy() function does deep copy"
   ]
  },
  {
   "cell_type": "code",
   "execution_count": null,
   "metadata": {},
   "outputs": [],
   "source": [
    "#Demo of shallow copy\n",
    "orig_list = ['name1', 'name2', 'name3']\n",
    "dupli_list = orig_list\n",
    "print(\"As soon after copying : \")\n",
    "print(\"Original List =  \",orig_list)\n",
    "print(\"Duplicate List = \",dupli_list)\n",
    "dupli_list[1] = 'name4'\n",
    "print(\"after Modifying Duplicate List : \")\n",
    "print(\"Original List =  \",orig_list)\n",
    "print(\"Duplicate List = \",dupli_list)"
   ]
  },
  {
   "cell_type": "code",
   "execution_count": null,
   "metadata": {},
   "outputs": [],
   "source": [
    "#Demo of deep copy\n",
    "orig_list = ['name1', 'name2', 'name3']\n",
    "dupli_list = orig_list.copy()\n",
    "print(\"As soon after copying : \")\n",
    "print(\"Original List =  \",orig_list)\n",
    "print(\"Duplicate List = \",dupli_list)\n",
    "dupli_list[1] = 'name4'\n",
    "print(\"after Modifying Duplicate List : \")\n",
    "print(\"Original List =  \",orig_list)\n",
    "print(\"Duplicate List = \",dupli_list)"
   ]
  },
  {
   "cell_type": "markdown",
   "metadata": {},
   "source": [
    "### List Traversal"
   ]
  },
  {
   "cell_type": "code",
   "execution_count": null,
   "metadata": {},
   "outputs": [],
   "source": [
    "ls = [\"Hello\", \"There\", \"Obi\", \"Wan\", \"Kenobi\"]\n",
    "# Method 1.1 : Using index values\n",
    "# FOR LOOP\n",
    "print(\"Using For Loop\")\n",
    "for i in range(len(ls)):\n",
    "    print(ls[i])\n",
    "\n",
    "# Method 1.2 : Using index values\n",
    "# WHILE LOOP\n",
    "print(\"\\n\\n\\nUsing While Loop\")\n",
    "i=0\n",
    "while(i<len(ls)):\n",
    "    print(ls[i])\n",
    "    i+=1"
   ]
  },
  {
   "cell_type": "code",
   "execution_count": null,
   "metadata": {},
   "outputs": [],
   "source": [
    "# Method 2 using list values themselves\n",
    "for item in ls:\n",
    "    print(item)"
   ]
  },
  {
   "cell_type": "markdown",
   "metadata": {},
   "source": [
    "### List Comprehension\n",
    "\n",
    "List comprehension is an elegant way to define and create list in Python. These lists have often the qualities of sets, but are not in all cases sets. "
   ]
  },
  {
   "cell_type": "code",
   "execution_count": null,
   "metadata": {},
   "outputs": [],
   "source": [
    "ls = [x*10 for x in range(10)]\n",
    "print(ls)"
   ]
  },
  {
   "cell_type": "markdown",
   "metadata": {},
   "source": [
    "### Splicing\n",
    "\n",
    "##### TODO: Reverse a list using splice method"
   ]
  },
  {
   "cell_type": "markdown",
   "metadata": {},
   "source": [
    "##### TODO : Given a list of names, capitalize the first character of every name"
   ]
  },
  {
   "cell_type": "markdown",
   "metadata": {},
   "source": [
    "### Enumerate()\n",
    "\n",
    "It allows us to loop over something and have an automatic counter."
   ]
  },
  {
   "cell_type": "code",
   "execution_count": null,
   "metadata": {},
   "outputs": [],
   "source": [
    "my_list = ['apple', 'banana', 'grapes', 'pear']\n",
    "for counter, value in enumerate(my_list):\n",
    "    print(counter, value)"
   ]
  },
  {
   "cell_type": "code",
   "execution_count": null,
   "metadata": {},
   "outputs": [],
   "source": [
    "#Special ability to start the counter from a given place\n",
    "my_list = ['apple', 'banana', 'grapes', 'pear']\n",
    "for counter, value in enumerate(my_list,1):\n",
    "    print(counter, value)"
   ]
  },
  {
   "cell_type": "code",
   "execution_count": null,
   "metadata": {},
   "outputs": [],
   "source": [
    "my_list = ['apple', 'banana', 'grapes', 'pear']\n",
    "counter_list = list(enumerate(my_list, 1))\n",
    "print(counter_list)"
   ]
  },
  {
   "cell_type": "markdown",
   "metadata": {},
   "source": [
    "### Zip()"
   ]
  },
  {
   "cell_type": "markdown",
   "metadata": {},
   "source": [
    "The zip() function take iterables (can be zero or more), makes iterator that aggregates elements based on the iterables passed, and returns an iterator of tuples."
   ]
  },
  {
   "cell_type": "code",
   "execution_count": null,
   "metadata": {},
   "outputs": [],
   "source": [
    "numberList = [1, 2, 3]\n",
    "strList = ['one', 'two', 'three']\n",
    "\n",
    "# No iterables are passed\n",
    "result = zip()\n",
    "\n",
    "# Converting itertor to list\n",
    "resultList = list(result)\n",
    "print(resultList)\n",
    "\n",
    "# Two iterables are passed\n",
    "result = zip(numberList, strList)\n",
    "\n",
    "# Converting itertor to set\n",
    "resultSet = set(result)\n",
    "print(resultSet)"
   ]
  },
  {
   "cell_type": "markdown",
   "metadata": {},
   "source": [
    "## Nested List\n",
    "\n",
    "ex. : 2-D matrix"
   ]
  },
  {
   "cell_type": "code",
   "execution_count": null,
   "metadata": {},
   "outputs": [],
   "source": [
    "lis = [[0 for x in range(3)] for y in range(3)]\n",
    "for l in lis:\n",
    "    print(l)"
   ]
  },
  {
   "cell_type": "markdown",
   "metadata": {},
   "source": [
    "# TUPLES"
   ]
  },
  {
   "cell_type": "markdown",
   "metadata": {},
   "source": [
    "#### Mutable vs Immutable\n",
    "\n",
    "A mutable object can change its state or contents and immutable objects cannot.\n",
    "\n",
    "Mutable Objects : list, dict, set, byte array\n",
    "\n",
    "Immutable Objects : int, float, complex, string, tuple"
   ]
  },
  {
   "cell_type": "markdown",
   "metadata": {},
   "source": [
    "### Why use Tuples instead of List"
   ]
  },
  {
   "cell_type": "markdown",
   "metadata": {},
   "source": [
    "* A tuple is faster than a list\n",
    "\n",
    "* It is code safe. Meaning that a developer cannot alter it's value by mistake\n",
    "\n",
    "* Can be used as a key in dicitonary"
   ]
  },
  {
   "cell_type": "code",
   "execution_count": null,
   "metadata": {},
   "outputs": [],
   "source": [
    "tup1 = ('physics', 'chemistry', 1997, 2000)\n",
    "tup2 = (1, 2, 3, 4, 5, 6, 7 )\n",
    "\n",
    "print (\"tup1[0]: \", tup1[0])\n",
    "print (\"tup2[1:5]: \", tup2[1:5])"
   ]
  },
  {
   "cell_type": "markdown",
   "metadata": {},
   "source": [
    "### Basic Tuple Operations"
   ]
  },
  {
   "cell_type": "code",
   "execution_count": null,
   "metadata": {},
   "outputs": [],
   "source": [
    "tup1 = ('physics', 'chemistry', 1997, 2000)\n",
    "tup2 = (1,2,3,4,5)\n",
    "#Length\n",
    "print(len(tup1))\n",
    "\n",
    "#Concatenation\n",
    "tup3 = tup1+tup2\n",
    "print(tup3)\n",
    "\n",
    "#Repetition\n",
    "tup2 = ('Hi!! ')*4\n",
    "print(tup2)\n",
    "\n",
    "#Membership\n",
    "print('physics' in tup1)\n",
    "print('maths' in tup1)\n",
    "\n",
    "#Iteration\n",
    "for x in (1,2,3): print(x)"
   ]
  },
  {
   "cell_type": "markdown",
   "metadata": {},
   "source": [
    "#### TUPLES support Slicing, Indexing just like a list"
   ]
  },
  {
   "cell_type": "markdown",
   "metadata": {},
   "source": [
    "### Tuple Function\n",
    "`cmp(tuple1, tuple2)`\n",
    "Compares elements of both tuples.\n",
    "\n",
    "`len(tuple)`\n",
    "Gives the total length of the tuple.\n",
    "\n",
    "`max(tuple)`\n",
    "Returns item from the tuple with max value.\n",
    "\n",
    "`min(tuple)`\n",
    "Returns item from the tuple with min value.\n",
    "\n",
    "`tuple(seq)`\n",
    "Converts a list into tuple."
   ]
  },
  {
   "cell_type": "code",
   "execution_count": null,
   "metadata": {},
   "outputs": [],
   "source": []
  }
 ],
 "metadata": {
  "kernelspec": {
   "display_name": "Python 3",
   "language": "python",
   "name": "python3"
  },
  "language_info": {
   "codemirror_mode": {
    "name": "ipython",
    "version": 3
   },
   "file_extension": ".py",
   "mimetype": "text/x-python",
   "name": "python",
   "nbconvert_exporter": "python",
   "pygments_lexer": "ipython3",
   "version": "3.6.4"
  }
 },
 "nbformat": 4,
 "nbformat_minor": 2
}
