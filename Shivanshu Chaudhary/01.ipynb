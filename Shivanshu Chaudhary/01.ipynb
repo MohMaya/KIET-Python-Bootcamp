{
 "cells": [
  {
   "cell_type": "markdown",
   "metadata": {},
   "source": [
    "## print() Function\n",
    "#### The print() function prints the given object to the standard output device (screen) or to the text stream file."
   ]
  },
  {
   "cell_type": "code",
   "execution_count": 1,
   "metadata": {},
   "outputs": [
    {
     "name": "stdout",
     "output_type": "stream",
     "text": [
      "Hello World 1 23\n"
     ]
    }
   ],
   "source": [
    "print(\"Hello World\",1,23)"
   ]
  },
  {
   "cell_type": "markdown",
   "metadata": {},
   "source": [
    "### printing in single line\n",
    "\n",
    "print() function adds a newline character ```\\n``` by default at the end of the matter it prints. But we can change it to print in a single line or end with our custom character."
   ]
  },
  {
   "cell_type": "code",
   "execution_count": 2,
   "metadata": {},
   "outputs": [
    {
     "name": "stdout",
     "output_type": "stream",
     "text": [
      "My name is\n",
      "Shivanshu\n"
     ]
    }
   ],
   "source": [
    "print(\"My name is\")\n",
    "print(\"Shivanshu\")"
   ]
  },
  {
   "cell_type": "code",
   "execution_count": 3,
   "metadata": {},
   "outputs": [
    {
     "name": "stdout",
     "output_type": "stream",
     "text": [
      "My name is Shivanshu\n"
     ]
    }
   ],
   "source": [
    "print(\"My name is \", end='')\n",
    "print(\"Shivanshu\")"
   ]
  },
  {
   "cell_type": "markdown",
   "metadata": {},
   "source": [
    "## Comments\n",
    "#### You must add comments to make your code more readable and easier to understand at a later point of time\n",
    "\n",
    "In python comments are written by '#' followed by the single line of comment. The interpreter skips any line that is commented."
   ]
  },
  {
   "cell_type": "code",
   "execution_count": 4,
   "metadata": {},
   "outputs": [
    {
     "name": "stdout",
     "output_type": "stream",
     "text": [
      "I read this\n"
     ]
    }
   ],
   "source": [
    "print(\"I read this\")\n",
    "#print(\"But Skip This\")"
   ]
  },
  {
   "cell_type": "markdown",
   "metadata": {},
   "source": [
    "# Variables"
   ]
  },
  {
   "cell_type": "markdown",
   "metadata": {},
   "source": [
    "Variables are nothing but reserved memory locations to store values. It means that when you create a variable, you reserve some space in the memory.\n",
    "\n",
    "Based on the data type of a variable, the interpreter allocates memory and decides what can be stored in the reserved memory. Therefore, by assigning different data types to the variables, you can store integers, decimals or characters in these variables."
   ]
  },
  {
   "cell_type": "markdown",
   "metadata": {},
   "source": [
    "### Assigning Values to Variables"
   ]
  },
  {
   "cell_type": "markdown",
   "metadata": {},
   "source": [
    "Python variables do not need explicit declaration to reserve memory space. The declaration happens automatically when you assign a value to a variable. The equal sign (=) is used to assign values to variables.\n",
    "\n",
    "The operand to the left of the = operator is the name of the variable and the operand to the right of the = operator is the value stored in the variable. For example −"
   ]
  },
  {
   "cell_type": "code",
   "execution_count": 5,
   "metadata": {},
   "outputs": [
    {
     "name": "stdout",
     "output_type": "stream",
     "text": [
      "100\n",
      "1000.0\n",
      "John\n"
     ]
    }
   ],
   "source": [
    "counter = 100          # An integer assignment\n",
    "miles   = 1000.0       # A floating point\n",
    "name    = \"John\"       # A string\n",
    "\n",
    "print (counter)\n",
    "print (miles)\n",
    "print (name)"
   ]
  },
  {
   "cell_type": "markdown",
   "metadata": {},
   "source": [
    "### Variable Naming Rules\n",
    "\n",
    "* Variables names must start with a letter or an underscore, such as:\n",
    "    * _underscore\n",
    "    * underscore_\n",
    "* The remainder of your variable name may consist of letters, numbers and underscores.\n",
    "    * password1\n",
    "    * un_der_scores\n",
    "* Names are case sensitive.\n",
    "    * case_sensitive, CASE_SENSITIVE, and Case_Sensitive are each a different variable.\n",
    "        "
   ]
  },
  {
   "cell_type": "markdown",
   "metadata": {},
   "source": [
    "### Variable Naming Convention \n",
    "\n",
    "* Readability is very important. Which of the following is easiest to read? I’m hoping you’ll say the first example.\n",
    "    * python_puppet\n",
    "    * pythonpuppet\n",
    "    * pythonPuppet\n",
    "* Descriptive names are very useful. If you are writing a program that adds up all of the bad products made in a factory, which do you think is the better variable name?\n",
    "    * total_bad_prods\n",
    "    * super_bad\n",
    "* Avoid using the lowercase letter ‘l’, uppercase ‘O’, and uppercase ‘I’. Why? Because the l and the I look a lot like each other and the number 1. And O looks a lot like 0.\n",
    "        "
   ]
  },
  {
   "cell_type": "markdown",
   "metadata": {},
   "source": [
    "### Type Function\n",
    "You can use type(Variable_name) to print its type and check for yourself"
   ]
  },
  {
   "cell_type": "code",
   "execution_count": 6,
   "metadata": {},
   "outputs": [
    {
     "name": "stdout",
     "output_type": "stream",
     "text": [
      "<class 'int'>\n",
      "<class 'float'>\n",
      "<class 'str'>\n"
     ]
    }
   ],
   "source": [
    "print(type(counter))\n",
    "print(type(miles))\n",
    "print(type(name))"
   ]
  },
  {
   "cell_type": "markdown",
   "metadata": {},
   "source": [
    "```!!! ignore the word class as of now. We'll deal with it later on.```"
   ]
  },
  {
   "cell_type": "markdown",
   "metadata": {},
   "source": [
    "### Multiple Assignment"
   ]
  },
  {
   "cell_type": "markdown",
   "metadata": {},
   "source": [
    "Python allows you to assign a single value to several variables simultaneously.\n",
    "\n",
    "For example −"
   ]
  },
  {
   "cell_type": "code",
   "execution_count": 7,
   "metadata": {},
   "outputs": [
    {
     "name": "stdout",
     "output_type": "stream",
     "text": [
      "1 1 1\n"
     ]
    }
   ],
   "source": [
    "a = b = c = 1\n",
    "print(a, b, c)"
   ]
  },
  {
   "cell_type": "markdown",
   "metadata": {},
   "source": [
    "### Dynamic Typing\n",
    "You can also re-assign multiple values to a variable. Only the latest value is accounted for."
   ]
  },
  {
   "cell_type": "code",
   "execution_count": 9,
   "metadata": {},
   "outputs": [
    {
     "name": "stdout",
     "output_type": "stream",
     "text": [
      "3   4\n",
      "4   3\n"
     ]
    }
   ],
   "source": [
    "a=3\n",
    "b=4\n",
    "print(a,\" \",b)\n",
    "a,b = b,a\n",
    "print(a,\" \",b)"
   ]
  },
  {
   "cell_type": "markdown",
   "metadata": {},
   "source": [
    "### Type Conversion\n",
    "Sometimes, you may need to perform conversions between the built-in types. To convert between types, you simply use the type-names as a function."
   ]
  },
  {
   "cell_type": "code",
   "execution_count": 10,
   "metadata": {},
   "outputs": [
    {
     "name": "stdout",
     "output_type": "stream",
     "text": [
      "<class 'str'>\n",
      "<class 'int'>\n"
     ]
    }
   ],
   "source": [
    "my_num_as_str = '23'\n",
    "my_num_as_int = int(my_num_as_str)\n",
    "print(type(my_num_as_str))\n",
    "print(type(my_num_as_int))"
   ]
  },
  {
   "cell_type": "markdown",
   "metadata": {},
   "source": [
    "# Arithmetics"
   ]
  },
  {
   "cell_type": "markdown",
   "metadata": {},
   "source": [
    "### Arithmetic Operator\n",
    "1. \\+ : Addition\n",
    "2. \\- : Subtraction\n",
    "3. \\* : Multiplication\n",
    "4. / : Division\n",
    "5. % : Modulus\n",
    "6. \\** : Exponent\n",
    "7. // : Integer Division"
   ]
  },
  {
   "cell_type": "code",
   "execution_count": 11,
   "metadata": {},
   "outputs": [],
   "source": [
    "num1 = 13\n",
    "num2 = 40"
   ]
  },
  {
   "cell_type": "code",
   "execution_count": 13,
   "metadata": {},
   "outputs": [
    {
     "name": "stdout",
     "output_type": "stream",
     "text": [
      "13 + 40 =  53\n",
      "13  +  40  =  53\n",
      "13 - 40 =  -27\n",
      "13 * 40 =  520\n",
      "13 / 40 =  3.076923076923077\n",
      "40 % 13 =  1\n",
      "13 **2  =  169\n",
      "40 //13 =  3\n"
     ]
    }
   ],
   "source": [
    "print(f\"{num1} + {num2} = \",num1+num2)\n",
    "print(num1,\" + \",num2,\" = \",num1+num2)\n",
    "print(f\"{num1} - {num2} = \",num1-num2)\n",
    "print(f\"{num1} * {num2} = \",num2*num1)\n",
    "print(f\"{num1} / {num2} = \",num2/num1)\n",
    "print(f\"{num2} % {num1} = \",num2%num1)\n",
    "print(f\"{num1} **2  = \",num1**2)\n",
    "print(f\"{num2} //{num1} = \",num2//num1)"
   ]
  },
  {
   "cell_type": "markdown",
   "metadata": {},
   "source": [
    "### Shorthand Version\n",
    "** These are used where one operand on the right is the variable on left itself **"
   ]
  },
  {
   "cell_type": "code",
   "execution_count": null,
   "metadata": {},
   "outputs": [],
   "source": [
    "final_sum = 0\n",
    "final_sum += 1\n",
    "final_sum += 2\n",
    "final_sum += 3\n",
    "final_sum += 4\n",
    "final_sum += 5\n",
    "print(final_sum)"
   ]
  },
  {
   "cell_type": "markdown",
   "metadata": {},
   "source": [
    "Similarly Other Shorthand operators include : ```-=      *=     /=        %=        \\**=      //=```"
   ]
  },
  {
   "cell_type": "markdown",
   "metadata": {},
   "source": [
    "### Operator Precedence\n",
    "\n",
    "## (Exponentiation) > (Multiply, divide, modulo and floor division) > (Addition and subtraction)\n",
    "\n",
    "For Arithmetic operations only"
   ]
  },
  {
   "cell_type": "code",
   "execution_count": 14,
   "metadata": {},
   "outputs": [
    {
     "name": "stdout",
     "output_type": "stream",
     "text": [
      "31.0\n"
     ]
    }
   ],
   "source": [
    "print(3**5//9-1*4/2+6)"
   ]
  },
  {
   "cell_type": "code",
   "execution_count": null,
   "metadata": {},
   "outputs": [],
   "source": []
  }
 ],
 "metadata": {
  "kernelspec": {
   "display_name": "Python 3",
   "language": "python",
   "name": "python3"
  },
  "language_info": {
   "codemirror_mode": {
    "name": "ipython",
    "version": 3
   },
   "file_extension": ".py",
   "mimetype": "text/x-python",
   "name": "python",
   "nbconvert_exporter": "python",
   "pygments_lexer": "ipython3",
   "version": "3.6.4"
  }
 },
 "nbformat": 4,
 "nbformat_minor": 2
}
