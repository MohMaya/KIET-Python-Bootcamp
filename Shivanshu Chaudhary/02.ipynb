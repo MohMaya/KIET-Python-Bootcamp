{
 "cells": [
  {
   "cell_type": "markdown",
   "metadata": {},
   "source": [
    "## Challenge\n",
    "Based on a topic I taught you just now, I need you to write the following code."
   ]
  },
  {
   "cell_type": "code",
   "execution_count": null,
   "metadata": {},
   "outputs": [],
   "source": [
    "a = 6\n",
    "b = 20\n",
    "print(\"a = \",a,\" b = \",b)\n",
    "#One line logic to swap a and b without using any extra variable\n",
    "print(\"a = \",a,\" b = \",b)"
   ]
  },
  {
   "cell_type": "markdown",
   "metadata": {},
   "source": [
    "# None Keyword"
   ]
  },
  {
   "cell_type": "markdown",
   "metadata": {},
   "source": [
    "Keyword : Keywords are predefined, reserved words used in programming that have special meanings to the compiler. Keywords are part of the syntax and they cannot be used as an identifier."
   ]
  },
  {
   "cell_type": "markdown",
   "metadata": {},
   "source": [
    "#### Null Value\n",
    "The null keyword is commonly used in many programming languages, such as Java, C++, C# and Javascript. It is a value that is assigned to a variable.\n",
    "\n",
    "The concept of a null keyword is that it gives a variable a neutral, or \"null\" behaviour."
   ]
  },
  {
   "cell_type": "markdown",
   "metadata": {},
   "source": [
    "#### Python's null equivalent : None \n",
    "The equivalent of the null keyword in Python is None. We'll come across it later."
   ]
  },
  {
   "cell_type": "markdown",
   "metadata": {},
   "source": [
    "# Strings"
   ]
  },
  {
   "cell_type": "markdown",
   "metadata": {},
   "source": [
    "Strings in python are of two kinds : \n",
    "    * Single Quoted\n",
    "    * Double Quoted\n",
    "    \n",
    "\n",
    "\n",
    "As far as language syntax is concerned, there is no difference in single or double quoted string. Both representations can be used interchangeably. However, if either single or double quote is a part of the string itself, then the string must be placed in double or single quotes respectively."
   ]
  },
  {
   "cell_type": "markdown",
   "metadata": {},
   "source": [
    "For example a text Hello “Python” is to be stored as a string, then one should use"
   ]
  },
  {
   "cell_type": "code",
   "execution_count": null,
   "metadata": {},
   "outputs": [],
   "source": [
    "str1='Hello \"Python\"'"
   ]
  },
  {
   "cell_type": "markdown",
   "metadata": {},
   "source": [
    "On the other hand, if string should resemble Hello ‘Python’ then it should be declared as follows:"
   ]
  },
  {
   "cell_type": "code",
   "execution_count": null,
   "metadata": {},
   "outputs": [],
   "source": [
    "Str2=\"Hello 'Python'\""
   ]
  },
  {
   "cell_type": "markdown",
   "metadata": {},
   "source": [
    "### Escape Sequences "
   ]
  },
  {
   "cell_type": "markdown",
   "metadata": {},
   "source": [
    "An escape sequence is a sequence of characters that does not represent itself when used inside a character or string literal, but is translated into another character or a sequence of characters that may be difficult or impossible to represent directly."
   ]
  },
  {
   "cell_type": "code",
   "execution_count": 1,
   "metadata": {},
   "outputs": [
    {
     "name": "stdout",
     "output_type": "stream",
     "text": [
      "This text is followed by 3 tab escape sequences\t\t\t This sentence is broken \n",
      " into two lines using newline escape character\n"
     ]
    }
   ],
   "source": [
    "print(\"This text is followed by 3 tab escape sequences\\t\\t\\t This sentence is broken \\n into two lines using newline escape character\")"
   ]
  },
  {
   "cell_type": "code",
   "execution_count": 2,
   "metadata": {},
   "outputs": [
    {
     "name": "stdout",
     "output_type": "stream",
     "text": [
      "hell\bo\n"
     ]
    }
   ],
   "source": [
    "print(\"hell\\bo\")"
   ]
  },
  {
   "cell_type": "markdown",
   "metadata": {},
   "source": [
    "### String Concatenation"
   ]
  },
  {
   "cell_type": "markdown",
   "metadata": {},
   "source": [
    "We can join two strings using `+` operator."
   ]
  },
  {
   "cell_type": "code",
   "execution_count": null,
   "metadata": {},
   "outputs": [],
   "source": [
    "str1 = \"My Name is \"\n",
    "str2 = \"Shivanshu\"\n",
    "print(str1+str2)"
   ]
  },
  {
   "cell_type": "markdown",
   "metadata": {},
   "source": [
    "We can add only two strings together. Thus, this is not possible : "
   ]
  },
  {
   "cell_type": "code",
   "execution_count": null,
   "metadata": {},
   "outputs": [],
   "source": [
    "print(\"Hello \"+1)"
   ]
  },
  {
   "cell_type": "code",
   "execution_count": null,
   "metadata": {},
   "outputs": [],
   "source": [
    "#But this can be done as\n",
    "print(\"Hello \"+str(1))"
   ]
  },
  {
   "cell_type": "markdown",
   "metadata": {},
   "source": [
    "### Formatted String"
   ]
  },
  {
   "cell_type": "code",
   "execution_count": null,
   "metadata": {},
   "outputs": [],
   "source": [
    "my_roll_num = 12\n",
    "my_name = \"Shivanshu\"\n",
    "statement = f\"Roll Number of {my_name} is {my_roll_num}.\"\n",
    "print(statement)"
   ]
  },
  {
   "cell_type": "markdown",
   "metadata": {},
   "source": [
    "### String Indexing"
   ]
  },
  {
   "cell_type": "markdown",
   "metadata": {},
   "source": [
    "Individual characters of a string can be accessed by str_name[position]. The value of position starts from 0 and goes upto (length of str_name)-1"
   ]
  },
  {
   "cell_type": "code",
   "execution_count": null,
   "metadata": {},
   "outputs": [],
   "source": [
    "my_str = \"Hello\"\n",
    "print(f\"First Character of {my_str} is {my_str[0]}\")\n",
    "print(f\"Last Character of {my_str} is {my_str[-1]}\")\n",
    "# YUP !! Negative indexing exists in python"
   ]
  },
  {
   "cell_type": "markdown",
   "metadata": {},
   "source": [
    "### String Splicing"
   ]
  },
  {
   "cell_type": "markdown",
   "metadata": {},
   "source": [
    "We can pick out a slice of string from a given string using following format str_name[start:end:step]. We get a string with character from index `start` to index `end-1` at a stepping of `step`"
   ]
  },
  {
   "cell_type": "code",
   "execution_count": 3,
   "metadata": {},
   "outputs": [
    {
     "name": "stdout",
     "output_type": "stream",
     "text": [
      "s is a test string\n",
      "This is a te\n",
      "s is a te\n",
      "si  e\n",
      "set a si \n",
      "This is a test string\n"
     ]
    }
   ],
   "source": [
    "my_str = \"This is a test string\"\n",
    "print(my_str[3:])\n",
    "print(my_str[:12])\n",
    "print(my_str[3:12])\n",
    "print(my_str[3:12:2])\n",
    "print(my_str[12:3:-1])\n",
    "print(my_str[::])"
   ]
  },
  {
   "cell_type": "markdown",
   "metadata": {},
   "source": [
    "## What will this code do?"
   ]
  },
  {
   "cell_type": "code",
   "execution_count": 4,
   "metadata": {},
   "outputs": [
    {
     "name": "stdout",
     "output_type": "stream",
     "text": [
      "gnirts tset a si sihT\n"
     ]
    }
   ],
   "source": [
    "print(my_str[::-1])"
   ]
  },
  {
   "cell_type": "markdown",
   "metadata": {},
   "source": [
    "### * Operator for Strings"
   ]
  },
  {
   "cell_type": "code",
   "execution_count": 5,
   "metadata": {},
   "outputs": [
    {
     "name": "stdout",
     "output_type": "stream",
     "text": [
      "AAAAAA\n"
     ]
    }
   ],
   "source": [
    "my_str = \"A\"*6\n",
    "print(my_str)"
   ]
  },
  {
   "cell_type": "markdown",
   "metadata": {},
   "source": [
    "### Built-In String functions"
   ]
  },
  {
   "cell_type": "code",
   "execution_count": 7,
   "metadata": {},
   "outputs": [
    {
     "name": "stdout",
     "output_type": "stream",
     "text": [
      "Baba Black Sheep have you Any Wool ?  =  36\n",
      "Baba Black Sheep have you Any Wool ?!!  =  38\n"
     ]
    }
   ],
   "source": [
    "my_str = \"Baba Black Sheep have you Any Wool ?\"\n",
    "print(my_str,\" = \",len(my_str))\n",
    "my_str+=\"!!\"\n",
    "print(my_str,\" = \",len(my_str))"
   ]
  },
  {
   "cell_type": "code",
   "execution_count": 8,
   "metadata": {},
   "outputs": [
    {
     "name": "stdout",
     "output_type": "stream",
     "text": [
      "Baba black sheep have you any wool ?!!\n"
     ]
    }
   ],
   "source": [
    "print(my_str.capitalize())"
   ]
  },
  {
   "cell_type": "markdown",
   "metadata": {},
   "source": [
    "## Other Functions\n",
    "\n",
    "isalnum(),isalpha(),isdigit(),islower(),isnumeric(),isspace(),etc. \n",
    "For Numerous others, refer https://docs.python.org/3/library/stdtypes.html#str"
   ]
  },
  {
   "cell_type": "markdown",
   "metadata": {},
   "source": [
    "# Boolean Algebra"
   ]
  },
  {
   "cell_type": "markdown",
   "metadata": {},
   "source": [
    "### User Input\n",
    "\n",
    "We can take user input using input() function. This function gives input as a string."
   ]
  },
  {
   "cell_type": "code",
   "execution_count": null,
   "metadata": {},
   "outputs": [],
   "source": [
    "str_my_name = input(\"What is your name? \")\n",
    "print(f\"Hello, {str_my_name}. How You Doin?\")"
   ]
  },
  {
   "cell_type": "markdown",
   "metadata": {},
   "source": [
    "### Truthiness\n",
    "\n",
    "0 vs 1\n",
    "\n",
    "True vs False"
   ]
  },
  {
   "cell_type": "markdown",
   "metadata": {},
   "source": [
    "### Comparison Operator\n",
    "\n",
    "* `==` : If the values of two operands are equal, then the condition becomes true.\n",
    "* `!=` : If values of two operands are not equal, then condition becomes true.\n",
    "* `<>` : If values of two operands are not equal, then condition becomes true.\n",
    "* `>`  : If the value of left operand is greater than the value of right operand, then condition becomes true.\n",
    "* `<`  : If the value of left operand is less than the value of right operand, then condition becomes true.\n",
    "* `>=` : If the value of left operand is greater than or equal to the value of right operand, then condition becomes true.\n",
    "* `<=` : If the value of left operand is less than or equal to the value of right operand, then condition becomes true.\n"
   ]
  },
  {
   "cell_type": "markdown",
   "metadata": {},
   "source": [
    "### If-elif-else"
   ]
  },
  {
   "cell_type": "markdown",
   "metadata": {},
   "source": [
    "These are called decision making statements and are used to direct the program flow according to variable values"
   ]
  },
  {
   "cell_type": "code",
   "execution_count": 9,
   "metadata": {},
   "outputs": [
    {
     "name": "stdout",
     "output_type": "stream",
     "text": [
      "How Are you234\n",
      "<class 'str'>\n"
     ]
    }
   ],
   "source": [
    "var1 = input(\"How Are you\")\n",
    "print(type(var1))"
   ]
  },
  {
   "cell_type": "code",
   "execution_count": null,
   "metadata": {},
   "outputs": [],
   "source": [
    "choice = input(\"Do you want to continue ? \")\n",
    "if(choice[0].upper()=='Y'):\n",
    "    print(\"Yes\")\n",
    "else:\n",
    "    print(\"No\")"
   ]
  },
  {
   "cell_type": "code",
   "execution_count": 10,
   "metadata": {},
   "outputs": [
    {
     "name": "stdout",
     "output_type": "stream",
     "text": [
      "Enter a number47\n",
      "47  is 2 more than a multiple of 3\n"
     ]
    }
   ],
   "source": [
    "number = int(input(\"Enter a number\"))\n",
    "if(number%3==0):\n",
    "    print(number,\" is a multiple of 3\")\n",
    "elif(number%3==1):\n",
    "    print(number,\" is 1 more than a multiple of 3\")\n",
    "else:\n",
    "    print(number,\" is 2 more than a multiple of 3\")"
   ]
  },
  {
   "cell_type": "markdown",
   "metadata": {},
   "source": [
    "### Nested If "
   ]
  },
  {
   "cell_type": "code",
   "execution_count": 11,
   "metadata": {},
   "outputs": [
    {
     "name": "stdout",
     "output_type": "stream",
     "text": [
      "Enter a Number 23\n",
      "23 is larger than 20\n"
     ]
    }
   ],
   "source": [
    "number = int(input(\"Enter a Number \"))\n",
    "if(number<=20):\n",
    "    if(number%15==0):\n",
    "        print(f\"{number} is divisible by 15\")\n",
    "    else:\n",
    "        print(f\"{number} is not divisible by 15\")\n",
    "else:\n",
    "    print(f\"{number} is larger than 20\")"
   ]
  },
  {
   "cell_type": "markdown",
   "metadata": {},
   "source": [
    "### is v/s == as comparison"
   ]
  },
  {
   "cell_type": "markdown",
   "metadata": {},
   "source": [
    "If you want to make sure that foo really is a boolean and of value True, use the is operator.\n",
    "As a rule of thumb, you should always use is with the built-in constants `True`, `False` and `None`.\n",
    "\n",
    "\n",
    "`is` simply checks memory adresses whereas `==` checks values"
   ]
  },
  {
   "cell_type": "markdown",
   "metadata": {},
   "source": [
    "### Membership Operators\n",
    "\n",
    "`in` : Evaluates to true if it finds a variable in the specified sequence and false otherwise.\n",
    "\n",
    "`not in` : Evaluates to true if it does not finds a variable in the specified sequence and false otherwise."
   ]
  },
  {
   "cell_type": "markdown",
   "metadata": {},
   "source": [
    "### Identity Operators\n",
    "\n",
    "`is` : Evaluates to true if the variables on either side of the operator point to the same object and false otherwise.\n",
    "\n",
    "`is not` : Evaluates to false if the variables on either side of the operator point to the same object and true otherwise."
   ]
  },
  {
   "cell_type": "markdown",
   "metadata": {},
   "source": [
    "### Logical Operators\n",
    "\n",
    "`and` : If both the operands are true then condition becomes true.\n",
    "\n",
    "`or` : If any of the two operands are non-zero then condition becomes true.\n",
    "\n",
    "`not` : Used to reverse the logical state of its operand."
   ]
  },
  {
   "cell_type": "markdown",
   "metadata": {},
   "source": [
    "# Let's Dive Into Rock, Paper, Scissors"
   ]
  },
  {
   "cell_type": "code",
   "execution_count": 13,
   "metadata": {},
   "outputs": [
    {
     "name": "stdout",
     "output_type": "stream",
     "text": [
      "Enter The String : A,B,C,D\n",
      "['A', 'B', 'C', 'D']\n"
     ]
    }
   ],
   "source": [
    "var1 = input(\"Enter The String : \")\n",
    "my_list = var1.split(',')\n",
    "print(my_list)"
   ]
  },
  {
   "cell_type": "code",
   "execution_count": null,
   "metadata": {},
   "outputs": [],
   "source": []
  }
 ],
 "metadata": {
  "kernelspec": {
   "display_name": "Python 3",
   "language": "python",
   "name": "python3"
  },
  "language_info": {
   "codemirror_mode": {
    "name": "ipython",
    "version": 3
   },
   "file_extension": ".py",
   "mimetype": "text/x-python",
   "name": "python",
   "nbconvert_exporter": "python",
   "pygments_lexer": "ipython3",
   "version": "3.6.4"
  }
 },
 "nbformat": 4,
 "nbformat_minor": 2
}
