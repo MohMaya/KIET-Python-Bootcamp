{
 "cells": [
  {
   "cell_type": "markdown",
   "metadata": {},
   "source": [
    "# Modules in python"
   ]
  },
  {
   "cell_type": "markdown",
   "metadata": {},
   "source": [
    "* Built-In\n",
    "* Other Files\n",
    "* pip package manager\n",
    "* import ***module*** as *y*\n",
    "* from ***module*** import *function*\n",
    "\n"
   ]
  },
  {
   "cell_type": "code",
   "execution_count": 2,
   "metadata": {},
   "outputs": [
    {
     "name": "stdout",
     "output_type": "stream",
     "text": [
      "What would you like to print? Hello\n",
      "What color? blue\n",
      "\u001b[34m _   _      _ _       \n",
      "| | | | ___| | | ___  \n",
      "| |_| |/ _ \\ | |/ _ \\ \n",
      "|  _  |  __/ | | (_) |\n",
      "|_| |_|\\___|_|_|\\___/ \n",
      "                      \n",
      "\u001b[0m\n"
     ]
    }
   ],
   "source": [
    "from pyfiglet import figlet_format\n",
    "from termcolor import colored\n",
    "\n",
    "def print_art(msg, color):\n",
    "\tvalid_colors = (\"red\", \"green\", \"yellow\", \"blue\", \"magenta\", \"cyan\", \"white\")\n",
    "\n",
    "\tif color not in valid_colors:\n",
    "\t\tcolor = \"magenta\"\n",
    "\n",
    "\tascii_art = figlet_format(msg)\n",
    "\tcolored_ascii = colored(ascii_art, color=color)\n",
    "\tprint(colored_ascii)\n",
    "\n",
    "msg = input(\"What would you like to print? \")\n",
    "color = input(\"What color? \")\n",
    "print_art(msg, color)"
   ]
  },
  {
   "cell_type": "markdown",
   "metadata": {},
   "source": [
    " ## \\__name\\__   Attribute"
   ]
  },
  {
   "cell_type": "markdown",
   "metadata": {},
   "source": [
    "Since there is no main() function in Python, when the command to run a python program is given to the interpreter, the code that is at level 0 indentation is to be executed. However, before doing that, it will define a few special variables. \\__name\\__ is one such special variable. If the source file is executed as the main program, the interpreter sets the \\__name\\__ variable to have a value “\\__main\\__”. If this file is being imported from another module, \\__name\\__ will be set to the module’s name."
   ]
  },
  {
   "cell_type": "markdown",
   "metadata": {},
   "source": [
    "### Can Be Used to ignore code on import"
   ]
  },
  {
   "cell_type": "markdown",
   "metadata": {},
   "source": [
    "### The Apples, Bananas, Fruits code "
   ]
  },
  {
   "cell_type": "markdown",
   "metadata": {},
   "source": [
    "# Object Oriented Programming"
   ]
  },
  {
   "cell_type": "markdown",
   "metadata": {},
   "source": [
    "### What is OOP?"
   ]
  },
  {
   "cell_type": "markdown",
   "metadata": {},
   "source": [
    "Object Oriented Programming is a method of programming that attempts to model some process or thing in the world as a **class** or **object**"
   ]
  },
  {
   "cell_type": "markdown",
   "metadata": {},
   "source": [
    "`class` : a blueprint for objects. Classes can contain methods(functions) and atrributes(Variables).\n",
    "Ex. 🚗 class"
   ]
  },
  {
   "cell_type": "markdown",
   "metadata": {},
   "source": [
    "`instance` : objects that are constructed from a class blueprint that contain their class's methods and properties."
   ]
  },
  {
   "cell_type": "markdown",
   "metadata": {},
   "source": [
    "`help(class_name)` Demo - Ex. help(list) in Terminal"
   ]
  },
  {
   "cell_type": "markdown",
   "metadata": {},
   "source": [
    "### Abstraction\n",
    "Suppose you are going to an ATM to withdraw money. You simply insert your card and click some buttons and get the money. You don’t know what is happening internally on press of these buttons. Basically you are hiding unnecessary information from user. So, abstraction is a method to hide internal functionalities from user."
   ]
  },
  {
   "cell_type": "markdown",
   "metadata": {},
   "source": [
    "### Encapsulation\n",
    "Suppose there is a tree. Now a tree can have its components like root, stem, branches, leaves, flowers and fruits. It has some functionalities like Photosynthesis. But in a single unit we call it a tree. In same way encapsulation is a characteristic to bind data members and functions in single unit."
   ]
  },
  {
   "cell_type": "markdown",
   "metadata": {},
   "source": [
    "### init function in a class\n",
    "\n",
    "-- Exemplary code -> init.py"
   ]
  },
  {
   "cell_type": "markdown",
   "metadata": {},
   "source": [
    "### user-methods\n",
    "-- Exemplary Code -> user-methods.py"
   ]
  },
  {
   "cell_type": "markdown",
   "metadata": {},
   "source": [
    "### Class Attributes\n",
    "\n",
    "Class attributes belong to the class itself they will be shared by all the instances. Such attributes are defined in the class body parts usually at the top, for legibility."
   ]
  },
  {
   "cell_type": "code",
   "execution_count": 3,
   "metadata": {},
   "outputs": [
    {
     "name": "stdout",
     "output_type": "stream",
     "text": [
      "1\n",
      "2\n",
      "2\n"
     ]
    }
   ],
   "source": [
    "class sampleclass:\n",
    "    count = 0     # class attribute\n",
    " \n",
    "    def increase(self):\n",
    "        sampleclass.count += 1\n",
    " \n",
    "# Calling increase() on an object\n",
    "s1 = sampleclass()\n",
    "s1.increase()        \n",
    "print(s1.count)\n",
    " \n",
    "# Calling increase on one more\n",
    "# object\n",
    "s2 = sampleclass()\n",
    "s2.increase()\n",
    "print(s2.count)\n",
    " \n",
    "print(sampleclass.count)"
   ]
  },
  {
   "cell_type": "markdown",
   "metadata": {},
   "source": [
    "### Instance Attributes"
   ]
  },
  {
   "cell_type": "markdown",
   "metadata": {},
   "source": [
    "Unlike class attributes, instance attributes are not shared by objects. Every object has its own copy of the instance attribute (In case of class attributes all object refer to single copy)."
   ]
  },
  {
   "cell_type": "markdown",
   "metadata": {},
   "source": [
    "To list the attributes of an instance/object, we have two functions:-\n",
    "* `vars()`- This function displays the attribute of an instance in the form of an dictionary.\n",
    "\n",
    "* `dir()`- This function displays more attributes than vars function,as it is not limited to instance. It displays the class attributes as well along with methods."
   ]
  },
  {
   "cell_type": "code",
   "execution_count": null,
   "metadata": {},
   "outputs": [],
   "source": [
    "# Python program to demonstrate instance attributes.\n",
    "class emp:\n",
    "    def __init__(self):\n",
    "        self.name = 'xyz'\n",
    "        self.salary = 4000\n",
    " \n",
    "    def show(self):\n",
    "        print(self.name)\n",
    "        print(self.salary)\n",
    " \n",
    "e1 = emp()\n",
    "print(\"Dictionary form :\", vars(e1))\n",
    "print(dir(e1))"
   ]
  },
  {
   "cell_type": "markdown",
   "metadata": {},
   "source": [
    "### self Keyword"
   ]
  },
  {
   "cell_type": "markdown",
   "metadata": {},
   "source": [
    "### Inheritance"
   ]
  },
  {
   "cell_type": "markdown",
   "metadata": {},
   "source": [
    "It refers to defining a new class with little or no modification to an existing class. The new class is called derived (or child) class and the one from which it inherits is called the base (or parent) class. Derived class inherits features from the base class, adding new features to it. This results into re-usability of code."
   ]
  },
  {
   "cell_type": "code",
   "execution_count": null,
   "metadata": {},
   "outputs": [],
   "source": []
  }
 ],
 "metadata": {
  "kernelspec": {
   "display_name": "Python 3",
   "language": "python",
   "name": "python3"
  },
  "language_info": {
   "codemirror_mode": {
    "name": "ipython",
    "version": 3
   },
   "file_extension": ".py",
   "mimetype": "text/x-python",
   "name": "python",
   "nbconvert_exporter": "python",
   "pygments_lexer": "ipython3",
   "version": "3.6.7"
  }
 },
 "nbformat": 4,
 "nbformat_minor": 2
}
